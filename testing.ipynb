{
 "cells": [
  {
   "cell_type": "markdown",
   "id": "162ca058",
   "metadata": {},
   "source": [
    "# Data Analysis and Visualization Demo\n",
    "This notebook-style script demonstrates various Python capabilities including:\n",
    "* Random data generation\n",
    "* Data visualization\n",
    "* Statistical analysis\n",
    "* Console animations"
   ]
  },
  {
   "cell_type": "markdown",
   "id": "d8d5114e",
   "metadata": {},
   "source": [
    "## Setup\n",
    "First, let's import all necessary libraries"
   ]
  },
  {
   "cell_type": "code",
   "execution_count": null,
   "id": "28069b5a",
   "metadata": {},
   "outputs": [],
   "source": [
    "import numpy as np\n",
    "import matplotlib.pyplot as plt\n",
    "import seaborn as sns\n",
    "import pandas as pd\n",
    "from random import randint, choice\n",
    "import time"
   ]
  },
  {
   "cell_type": "markdown",
   "id": "ff81879c",
   "metadata": {},
   "source": [
    "## Fun Facts Section\n",
    "Let's start with some random Python fun facts!"
   ]
  },
  {
   "cell_type": "code",
   "execution_count": null,
   "id": "3c00742d",
   "metadata": {},
   "outputs": [],
   "source": [
    "fun_facts = [\n",
    "    \"Python was named after Monty Python, not the snake!\",\n",
    "    \"The first version of Python was released in 1991\",\n",
    "    \"Python uses indentation for code blocks instead of curly braces\",\n",
    "    \"Python has a zen philosophy - import this\",\n",
    "]\n",
    "\n",
    "print(\"\\n=== Random Fun Facts ===\")\n",
    "print(choice(fun_facts))"
   ]
  },
  {
   "cell_type": "markdown",
   "id": "a89e0b4c",
   "metadata": {},
   "source": [
    "## Random Data Generation\n",
    "Generate and visualize some random numbers"
   ]
  },
  {
   "cell_type": "code",
   "execution_count": null,
   "id": "8d53b4c8",
   "metadata": {},
   "outputs": [],
   "source": [
    "print(\"\\n=== Random Number Generation ===\")\n",
    "random_numbers = [randint(1, 100) for _ in range(10)]\n",
    "print(f\"Random numbers: {random_numbers}\")"
   ]
  },
  {
   "cell_type": "code",
   "execution_count": null,
   "id": "6a54f9a2",
   "metadata": {},
   "outputs": [],
   "source": [
    "# Create a simple line plot\n",
    "plt.figure(figsize=(10, 6))\n",
    "plt.plot(random_numbers, marker='o')\n",
    "plt.title('Random Numbers Line Plot')\n",
    "plt.xlabel('Index')\n",
    "plt.ylabel('Value')\n",
    "plt.grid(True)\n",
    "plt.savefig('line_plot.png')\n",
    "plt.close()"
   ]
  },
  {
   "cell_type": "markdown",
   "id": "40b13dc2",
   "metadata": {},
   "source": [
    "## Advanced Data Visualization\n",
    "Create a more complex dataset and visualize it using different techniques"
   ]
  },
  {
   "cell_type": "code",
   "execution_count": null,
   "id": "e0256aab",
   "metadata": {},
   "outputs": [],
   "source": [
    "print(\"\\n=== Creating Sample Dataset ===\")\n",
    "np.random.seed(42)\n",
    "data = {\n",
    "    'x': np.random.normal(0, 1, 1000),\n",
    "    'y': np.random.normal(0, 1, 1000),\n",
    "    'category': [choice(['A', 'B', 'C']) for _ in range(1000)]\n",
    "}\n",
    "df = pd.DataFrame(data)"
   ]
  },
  {
   "cell_type": "code",
   "execution_count": null,
   "id": "dde5c87e",
   "metadata": {},
   "outputs": [],
   "source": [
    "# Create a scatter plot with different categories\n",
    "plt.figure(figsize=(10, 6))\n",
    "sns.scatterplot(data=df, x='x', y='y', hue='category', alpha=0.6)\n",
    "plt.title('Scatter Plot with Categories')\n",
    "plt.savefig('scatter_plot.png')\n",
    "plt.close()"
   ]
  },
  {
   "cell_type": "code",
   "execution_count": null,
   "id": "b1986b6f",
   "metadata": {},
   "outputs": [],
   "source": [
    "# Create a histogram\n",
    "plt.figure(figsize=(10, 6))\n",
    "sns.histplot(data=df, x='x', bins=30, kde=True)\n",
    "plt.title('Distribution of X Values')\n",
    "plt.savefig('histogram.png')\n",
    "plt.close()"
   ]
  },
  {
   "cell_type": "markdown",
   "id": "fe2ed320",
   "metadata": {},
   "source": [
    "## Statistical Analysis\n",
    "Let's look at some basic statistics of our dataset"
   ]
  },
  {
   "cell_type": "code",
   "execution_count": null,
   "id": "8ae0c9e8",
   "metadata": {},
   "outputs": [],
   "source": [
    "print(\"\\n=== Data Statistics ===\")\n",
    "print(df.describe())"
   ]
  },
  {
   "cell_type": "markdown",
   "id": "b380b4dc",
   "metadata": {},
   "source": [
    "## Fun Animation\n",
    "Finally, let's create a simple loading animation in the console"
   ]
  },
  {
   "cell_type": "code",
   "execution_count": null,
   "id": "c54d404f",
   "metadata": {},
   "outputs": [],
   "source": [
    "print(\"\\n=== Loading Animation ===\")\n",
    "for _ in range(10):\n",
    "    for char in '|/-\\\\':\n",
    "        print(f'\\rProcessing {char}', end='')\n",
    "        time.sleep(0.1)\n",
    "\n",
    "print(\"\\n\\nAll visualizations have been saved!\") "
   ]
  }
 ],
 "metadata": {
  "jupytext": {
   "cell_metadata_filter": "-all",
   "main_language": "python",
   "notebook_metadata_filter": "-all"
  }
 },
 "nbformat": 4,
 "nbformat_minor": 5
}
